{
  "nbformat": 4,
  "nbformat_minor": 0,
  "metadata": {
    "colab": {
      "name": "Q3 Problem Sheet 2 (improved 2).ipynb",
      "provenance": [],
      "authorship_tag": "ABX9TyN3LCnukzOPtS3UkRedY16f",
      "include_colab_link": true
    },
    "kernelspec": {
      "name": "python3",
      "display_name": "Python 3"
    },
    "accelerator": "GPU"
  },
  "cells": [
    {
      "cell_type": "markdown",
      "metadata": {
        "id": "view-in-github",
        "colab_type": "text"
      },
      "source": [
        "<a href=\"https://colab.research.google.com/github/Mingjie-Shen/Deeep-Learning-Homework-and-Practice/blob/main/Q3_Problem_Sheet_2_(improved_2).ipynb\" target=\"_parent\"><img src=\"https://colab.research.google.com/assets/colab-badge.svg\" alt=\"Open In Colab\"/></a>"
      ]
    },
    {
      "cell_type": "code",
      "metadata": {
        "id": "2ZdlDzhZijQT"
      },
      "source": [
        "import numpy as np\r\n",
        "import pandas as pd\r\n",
        "import torch\r\n",
        "import torch.nn as nn\r\n",
        "import torch.nn.functional as F\r\n",
        "import torch.optim as optim\r\n",
        "from torch.autograd import Variable\r\n",
        "\r\n",
        "import h5py\r\n",
        "import time"
      ],
      "execution_count": 1,
      "outputs": []
    },
    {
      "cell_type": "code",
      "metadata": {
        "colab": {
          "base_uri": "https://localhost:8080/"
        },
        "id": "6Ng1y1jMik7S",
        "outputId": "b45e4b98-85ea-448d-f387-12bce48c2b2d"
      },
      "source": [
        "from google.colab import drive\r\n",
        "drive.mount('/content/drive')"
      ],
      "execution_count": 2,
      "outputs": [
        {
          "output_type": "stream",
          "text": [
            "Mounted at /content/drive\n"
          ],
          "name": "stdout"
        }
      ]
    },
    {
      "cell_type": "code",
      "metadata": {
        "id": "lMWU-NX3irSv"
      },
      "source": [
        "#load MNIST data\r\n",
        "MNIST_data = h5py.File('/content/drive/My Drive/MNISTdata.hdf5', 'r')\r\n",
        "x_train = np.float32(MNIST_data['x_train'][:] ).reshape((-1,1,28,28))\r\n",
        "y_train = np.int32(np.array(MNIST_data['y_train'][:,0]))\r\n",
        "x_test = np.float32( MNIST_data['x_test'][:] ).reshape((-1,1,28,28))\r\n",
        "y_test = np.int32( np.array( MNIST_data['y_test'][:,0]  ) )\r\n",
        "\r\n",
        "MNIST_data.close()"
      ],
      "execution_count": 3,
      "outputs": []
    },
    {
      "cell_type": "code",
      "metadata": {
        "id": "Cmf5dYOwix3G"
      },
      "source": [
        "class MyCNN(nn.Module):\r\n",
        "    def __init__(self):\r\n",
        "        super(MyCNN, self).__init__()\r\n",
        "        self.conv1 = nn.Conv2d(1, 16, kernel_size=5,stride=2)  \r\n",
        "        self.conv2 = nn.Conv2d(16, 64, kernel_size=5,stride=1)\r\n",
        "        self.fc = nn.Linear(64*8*8, 10)\r\n",
        "        \r\n",
        "    def forward(self, x):\r\n",
        "        x = F.relu(self.conv1(x))\r\n",
        "        x = F.relu(self.conv2(x))\r\n",
        "        #x = torch.flatten(x,1)\r\n",
        "        x = self.fc(x.reshape(-1,64*8*8))\r\n",
        "\r\n",
        "        return F.log_softmax(x,dim=1)"
      ],
      "execution_count": 4,
      "outputs": []
    },
    {
      "cell_type": "code",
      "metadata": {
        "id": "d6UKGam_i0w-"
      },
      "source": [
        "model=MyCNN()"
      ],
      "execution_count": 5,
      "outputs": []
    },
    {
      "cell_type": "code",
      "metadata": {
        "id": "zjk1j6scjCeM"
      },
      "source": [
        "optimizer=optim.SGD(model.parameters(),lr=0.02)"
      ],
      "execution_count": 6,
      "outputs": []
    },
    {
      "cell_type": "code",
      "metadata": {
        "id": "8yc5lwmcjEdN"
      },
      "source": [
        "batch_size=100\r\n",
        "num_epochs=100\r\n",
        "L_Y_train=len(y_train)\r\n",
        "model.train()\r\n",
        "train_loss=[]"
      ],
      "execution_count": 7,
      "outputs": []
    },
    {
      "cell_type": "code",
      "metadata": {
        "colab": {
          "base_uri": "https://localhost:8080/"
        },
        "id": "7HKpshKkjG6m",
        "outputId": "4c178cba-edb2-42f2-c908-2d5f6c5eba2a"
      },
      "source": [
        "time1=time.time()\r\n",
        "for epoch in range(num_epochs):\r\n",
        "  I_permutation=np.random.permutation(L_Y_train)\r\n",
        "  x_train=x_train[I_permutation,:]\r\n",
        "  y_train=y_train[I_permutation]\r\n",
        "  train_accu=[]\r\n",
        "  for i in range(0,L_Y_train,batch_size):\r\n",
        "    x_train_batch=torch.FloatTensor(x_train[i:i+batch_size,:])\r\n",
        "    y_train_batch=torch.LongTensor(y_train[i:i+batch_size])\r\n",
        "    data,target=Variable(x_train_batch),Variable(y_train_batch)\r\n",
        "\r\n",
        "    optimizer.zero_grad()\r\n",
        "\r\n",
        "    output=model(data)\r\n",
        "    loss=F.nll_loss(output,target)\r\n",
        "\r\n",
        "    loss.backward()\r\n",
        "    train_loss.append(loss.data)\r\n",
        "\r\n",
        "    optimizer.step()\r\n",
        "    prediction=output.data.max(1)[1]\r\n",
        "    accuracy=(float(prediction.eq(target.data).sum())/float(batch_size))*100\r\n",
        "    train_accu.append(accuracy)\r\n",
        "  accuracy_epoch=np.mean(train_accu)\r\n",
        "  print(epoch,accuracy_epoch)\r\n",
        "\r\n",
        "time2=time.time()\r\n",
        "delta_t=time2-time1\r\n",
        "print(delta_t)"
      ],
      "execution_count": 9,
      "outputs": [
        {
          "output_type": "stream",
          "text": [
            "0 98.84833333333333\n",
            "1 98.915\n",
            "2 98.89833333333333\n",
            "3 98.99166666666666\n",
            "4 99.04833333333333\n",
            "5 99.075\n",
            "6 99.08833333333334\n",
            "7 99.09\n",
            "8 99.165\n",
            "9 99.17666666666666\n",
            "10 99.24\n",
            "11 99.25833333333334\n",
            "12 99.28\n",
            "13 99.29\n",
            "14 99.34833333333333\n",
            "15 99.37\n",
            "16 99.38333333333334\n",
            "17 99.44666666666667\n",
            "18 99.45666666666666\n",
            "19 99.46833333333333\n",
            "20 99.47666666666667\n",
            "21 99.53666666666666\n",
            "22 99.52\n",
            "23 99.53333333333333\n",
            "24 99.58166666666666\n",
            "25 99.58666666666667\n",
            "26 99.60833333333333\n",
            "27 99.57333333333334\n",
            "28 99.61\n",
            "29 99.66666666666667\n",
            "30 99.69333333333333\n",
            "31 99.69166666666666\n",
            "32 99.68833333333333\n",
            "33 99.69833333333334\n",
            "34 99.70166666666667\n",
            "35 99.72833333333334\n",
            "36 99.73833333333333\n",
            "37 99.75666666666666\n",
            "38 99.76\n",
            "39 99.76333333333334\n",
            "40 99.75833333333334\n",
            "41 99.78166666666667\n",
            "42 99.80333333333333\n",
            "43 99.81166666666667\n",
            "44 99.81\n",
            "45 99.815\n",
            "46 99.84\n",
            "47 99.84666666666666\n",
            "48 99.85\n",
            "49 99.85833333333333\n",
            "50 99.85833333333333\n",
            "51 99.86333333333333\n",
            "52 99.86833333333334\n",
            "53 99.88666666666667\n",
            "54 99.89333333333333\n",
            "55 99.88\n",
            "56 99.89166666666667\n",
            "57 99.89333333333333\n",
            "58 99.91333333333333\n",
            "59 99.91\n",
            "60 99.90666666666667\n",
            "61 99.90833333333333\n",
            "62 99.91333333333333\n",
            "63 99.91666666666667\n",
            "64 99.91833333333334\n",
            "65 99.91333333333333\n",
            "66 99.91166666666666\n",
            "67 99.92166666666667\n",
            "68 99.94333333333333\n",
            "69 99.94\n",
            "70 99.935\n",
            "71 99.94333333333333\n",
            "72 99.93166666666667\n",
            "73 99.94666666666667\n",
            "74 99.94666666666667\n",
            "75 99.93666666666667\n",
            "76 99.94333333333333\n",
            "77 99.94666666666667\n",
            "78 99.95333333333333\n",
            "79 99.95666666666666\n",
            "80 99.95\n",
            "81 99.96\n",
            "82 99.95666666666666\n",
            "83 99.97166666666666\n",
            "84 99.97166666666666\n",
            "85 99.965\n",
            "86 99.96\n",
            "87 99.97333333333333\n",
            "88 99.97166666666666\n",
            "89 99.96666666666667\n",
            "90 99.97833333333334\n",
            "91 99.96666666666667\n",
            "92 99.97333333333333\n",
            "93 99.97666666666667\n",
            "94 99.98333333333333\n",
            "95 99.98166666666667\n",
            "96 99.97833333333334\n",
            "97 99.98833333333333\n",
            "98 99.99\n",
            "99 99.99\n",
            "1323.524382352829\n"
          ],
          "name": "stdout"
        }
      ]
    },
    {
      "cell_type": "code",
      "metadata": {
        "colab": {
          "base_uri": "https://localhost:8080/"
        },
        "id": "2xsbucEQjJvC",
        "outputId": "bb4c794f-7f21-4390-883a-f2bb9020c6fc"
      },
      "source": [
        "model.eval()\r\n",
        "test_accu=[]\r\n",
        "for i in range(0,len(y_test),batch_size):\r\n",
        "  x_test_batch=torch.FloatTensor(x_test[i:i+batch_size,:])\r\n",
        "  y_test_batch=torch.LongTensor(y_test[i:i+batch_size])\r\n",
        "  data,target=Variable(x_test_batch),Variable(y_test_batch)\r\n",
        "  optimizer.zero_grad()\r\n",
        "  output=model(data)\r\n",
        "  loss=F.nll_loss(output,target)\r\n",
        "  prediction=output.data.max(1)[1]\r\n",
        "  accuracy=(float(prediction.eq(target.data).sum())/float(batch_size)*100)\r\n",
        "  test_accu.append(accuracy)\r\n",
        "\r\n",
        "accuracy_test=np.mean(test_accu)\r\n",
        "print('The accuracy on the test set is',accuracy_test)"
      ],
      "execution_count": 10,
      "outputs": [
        {
          "output_type": "stream",
          "text": [
            "The accuracy on the test set is 98.77\n"
          ],
          "name": "stdout"
        }
      ]
    },
    {
      "cell_type": "code",
      "metadata": {
        "id": "ViIv47C-rT1h"
      },
      "source": [
        ""
      ],
      "execution_count": null,
      "outputs": []
    }
  ]
}