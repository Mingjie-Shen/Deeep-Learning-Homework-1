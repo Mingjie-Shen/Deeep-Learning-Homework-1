{
  "nbformat": 4,
  "nbformat_minor": 0,
  "metadata": {
    "colab": {
      "name": "Q3 Problem Sheet 2 (improved).ipynb",
      "provenance": [],
      "authorship_tag": "ABX9TyPoaA8ummbdl2Ff3z4/zBXh",
      "include_colab_link": true
    },
    "kernelspec": {
      "name": "python3",
      "display_name": "Python 3"
    }
  },
  "cells": [
    {
      "cell_type": "markdown",
      "metadata": {
        "id": "view-in-github",
        "colab_type": "text"
      },
      "source": [
        "<a href=\"https://colab.research.google.com/github/Mingjie-Shen/Deeep-Learning-Homework-and-Practice/blob/main/Q3_Problem_Sheet_2_(improved).ipynb\" target=\"_parent\"><img src=\"https://colab.research.google.com/assets/colab-badge.svg\" alt=\"Open In Colab\"/></a>"
      ]
    },
    {
      "cell_type": "code",
      "metadata": {
        "id": "1anoblJX8CkE"
      },
      "source": [
        "import numpy as np\r\n",
        "import pandas as pd\r\n",
        "import torch\r\n",
        "import torch.nn as nn\r\n",
        "import torch.nn.functional as F\r\n",
        "import torch.optim as optim\r\n",
        "from torch.autograd import Variable\r\n",
        "\r\n",
        "import h5py\r\n",
        "import time"
      ],
      "execution_count": 2,
      "outputs": []
    },
    {
      "cell_type": "code",
      "metadata": {
        "colab": {
          "base_uri": "https://localhost:8080/"
        },
        "id": "c0H9TTWH8GR2",
        "outputId": "5e1c3238-609b-42e0-d37e-654d3883249a"
      },
      "source": [
        "from google.colab import drive\r\n",
        "drive.mount('/content/drive')"
      ],
      "execution_count": 6,
      "outputs": [
        {
          "output_type": "stream",
          "text": [
            "Drive already mounted at MNISTdata.hdf5; to attempt to forcibly remount, call drive.mount(\"MNISTdata.hdf5\", force_remount=True).\n",
            "Mounted at /content/drive\n"
          ],
          "name": "stdout"
        }
      ]
    },
    {
      "cell_type": "code",
      "metadata": {
        "id": "ihef0mnODdXr"
      },
      "source": [
        "#load MNIST data\r\n",
        "MNIST_data = h5py.File('/content/drive/My Drive/MNISTdata.hdf5', 'r')\r\n",
        "x_train = np.float32(MNIST_data['x_train'][:] ).reshape((-1,1,28,28))\r\n",
        "y_train = np.int32(np.array(MNIST_data['y_train'][:,0]))\r\n",
        "x_test = np.float32( MNIST_data['x_test'][:] ).reshape((-1,1,28,28))\r\n",
        "y_test = np.int32( np.array( MNIST_data['y_test'][:,0]  ) )\r\n",
        "\r\n",
        "MNIST_data.close()"
      ],
      "execution_count": 11,
      "outputs": []
    },
    {
      "cell_type": "code",
      "metadata": {
        "id": "yRrb68HUJGcw"
      },
      "source": [
        "class MyCNN(nn.Module):\r\n",
        "    def __init__(self):\r\n",
        "        super(MyCNN, self).__init__()\r\n",
        "        self.conv1 = nn.Conv2d(1, 16, kernel_size=5,stride=2)  \r\n",
        "        self.conv2 = nn.Conv2d(16, 64, kernel_size=5,stride=1)\r\n",
        "        self.fc = nn.Linear(64*8*8, 10)\r\n",
        "        \r\n",
        "    def forward(self, x):\r\n",
        "        x = F.relu(self.conv1(x))\r\n",
        "        x = F.relu(self.conv2(x))\r\n",
        "        x = torch.flatten(x,1)\r\n",
        "        x = self.fc(x)\r\n",
        "\r\n",
        "        return F.log_softmax(x,dim=1)"
      ],
      "execution_count": 12,
      "outputs": []
    },
    {
      "cell_type": "code",
      "metadata": {
        "id": "gCmTNfR4bIwQ"
      },
      "source": [
        "model=MyCNN()"
      ],
      "execution_count": 13,
      "outputs": []
    },
    {
      "cell_type": "code",
      "metadata": {
        "id": "pTeRwZsKbLMg"
      },
      "source": [
        "optimizer=optim.SGD(model.parameters(),lr=0.1)"
      ],
      "execution_count": 14,
      "outputs": []
    },
    {
      "cell_type": "code",
      "metadata": {
        "id": "jLntGzW3bMtQ"
      },
      "source": [
        "batch_size=100\r\n",
        "num_epochs=100\r\n",
        "L_Y_train=len(y_train)\r\n",
        "model.train()\r\n",
        "train_loss=[]"
      ],
      "execution_count": 15,
      "outputs": []
    },
    {
      "cell_type": "code",
      "metadata": {
        "colab": {
          "base_uri": "https://localhost:8080/"
        },
        "id": "Fl1YgfjVbOn3",
        "outputId": "e719edb2-32cd-4e87-fb11-f1729449bfa1"
      },
      "source": [
        "time1=time.time()\r\n",
        "for epoch in range(num_epochs):\r\n",
        "  I_permutation=np.random.permutation(L_Y_train)\r\n",
        "  x_train=x_train[I_permutation,:]\r\n",
        "  y_train=y_train[I_permutation]\r\n",
        "  train_accu=[]\r\n",
        "  for i in range(0,L_Y_train,batch_size):\r\n",
        "    x_train_batch=torch.FloatTensor(x_train[i:i+batch_size,:])\r\n",
        "    y_train_batch=torch.LongTensor(y_train[i:i+batch_size])\r\n",
        "    data,target=Variable(x_train_batch),Variable(y_train_batch)\r\n",
        "\r\n",
        "    optimizer.zero_grad()\r\n",
        "\r\n",
        "    output=model(data)\r\n",
        "    loss=F.nll_loss(output,target)\r\n",
        "\r\n",
        "    loss.backward()\r\n",
        "    train_loss.append(loss.data)\r\n",
        "\r\n",
        "    optimizer.step()\r\n",
        "    prediction=output.data.max(1)[1]\r\n",
        "    accuracy=(float(prediction.eq(target.data).sum())/float(batch_size))*100\r\n",
        "    train_accu.append(accuracy)\r\n",
        "  accuracy_epoch=np.mean(train_accu)\r\n",
        "  print(epoch,accuracy_epoch)\r\n",
        "\r\n",
        "time2=time.time()\r\n",
        "delta_t=time2-time1\r\n",
        "print(delta_t)"
      ],
      "execution_count": 16,
      "outputs": [
        {
          "output_type": "stream",
          "text": [
            "0 92.23166666666667\n",
            "1 97.52833333333334\n",
            "2 98.135\n",
            "3 98.50666666666666\n",
            "4 98.72166666666666\n",
            "5 98.83166666666666\n",
            "6 98.99166666666666\n",
            "7 99.075\n",
            "8 99.23833333333333\n",
            "9 99.325\n",
            "10 99.365\n",
            "11 99.485\n",
            "12 99.52333333333333\n",
            "13 99.545\n",
            "14 99.65\n",
            "15 99.71\n",
            "16 99.70833333333333\n",
            "17 99.76666666666667\n",
            "18 99.80333333333333\n",
            "19 99.83333333333333\n",
            "20 99.825\n",
            "21 99.88833333333334\n",
            "22 99.92166666666667\n",
            "23 99.90166666666667\n",
            "24 99.89833333333333\n",
            "25 99.89666666666666\n",
            "26 99.94\n",
            "27 99.96\n",
            "28 99.96166666666667\n",
            "29 99.95833333333333\n",
            "30 99.97333333333333\n",
            "31 99.98\n",
            "32 99.98\n",
            "33 99.95666666666666\n",
            "34 99.99\n",
            "35 99.98833333333333\n",
            "36 99.995\n",
            "37 99.99666666666667\n",
            "38 99.99333333333334\n",
            "39 99.99333333333334\n",
            "40 99.99333333333334\n",
            "41 100.0\n",
            "42 99.99833333333333\n",
            "43 99.99833333333333\n",
            "44 100.0\n",
            "45 100.0\n",
            "46 100.0\n",
            "47 100.0\n",
            "48 100.0\n",
            "49 99.99833333333333\n",
            "50 100.0\n",
            "51 100.0\n",
            "52 100.0\n",
            "53 100.0\n",
            "54 100.0\n",
            "55 100.0\n",
            "56 100.0\n",
            "57 100.0\n",
            "58 100.0\n",
            "59 100.0\n",
            "60 100.0\n",
            "61 100.0\n",
            "62 100.0\n",
            "63 100.0\n",
            "64 100.0\n",
            "65 100.0\n",
            "66 100.0\n",
            "67 100.0\n",
            "68 100.0\n",
            "69 100.0\n",
            "70 100.0\n",
            "71 100.0\n",
            "72 100.0\n",
            "73 100.0\n",
            "74 100.0\n",
            "75 100.0\n",
            "76 100.0\n",
            "77 100.0\n",
            "78 100.0\n",
            "79 100.0\n",
            "80 100.0\n",
            "81 100.0\n",
            "82 100.0\n",
            "83 100.0\n",
            "84 100.0\n",
            "85 100.0\n",
            "86 100.0\n",
            "87 100.0\n",
            "88 100.0\n",
            "89 100.0\n",
            "90 100.0\n",
            "91 100.0\n",
            "92 100.0\n",
            "93 100.0\n",
            "94 100.0\n",
            "95 100.0\n",
            "96 100.0\n",
            "97 100.0\n",
            "98 100.0\n",
            "99 100.0\n"
          ],
          "name": "stdout"
        }
      ]
    },
    {
      "cell_type": "code",
      "metadata": {
        "colab": {
          "base_uri": "https://localhost:8080/"
        },
        "id": "OR9NkmKUbVvW",
        "outputId": "7581682c-c2bc-4a44-aba4-72f61c2b6f8e"
      },
      "source": [
        "model.eval()\r\n",
        "test_accu=[]\r\n",
        "for i in range(0,len(y_test),batch_size):\r\n",
        "  x_test_batch=torch.FloatTensor(x_test[i:i+batch_size,:])\r\n",
        "  y_test_batch=torch.LongTensor(y_test[i:i+batch_size])\r\n",
        "  data,target=Variable(x_test_batch),Variable(y_test_batch)\r\n",
        "  optimizer.zero_grad()\r\n",
        "  output=model(data)\r\n",
        "  loss=F.nll_loss(output,target)\r\n",
        "  prediction=output.data.max(1)[1]\r\n",
        "  accuracy=(float(prediction.eq(target.data).sum())/float(batch_size)*100)\r\n",
        "  test_accu.append(accuracy)\r\n",
        "\r\n",
        "accuracy_test=np.mean(test_accu)\r\n",
        "print('The accuracy on the test set is',accuracy_test)"
      ],
      "execution_count": 17,
      "outputs": [
        {
          "output_type": "stream",
          "text": [
            "The accuracy on the test set is 98.88\n"
          ],
          "name": "stdout"
        }
      ]
    },
    {
      "cell_type": "code",
      "metadata": {
        "id": "DyZqbMQqieKS"
      },
      "source": [
        ""
      ],
      "execution_count": null,
      "outputs": []
    }
  ]
}